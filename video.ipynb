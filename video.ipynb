{
 "cells": [
  {
   "cell_type": "code",
   "execution_count": 1,
   "metadata": {},
   "outputs": [
    {
     "name": "stderr",
     "output_type": "stream",
     "text": [
      "2024-10-02 02:57:36.436355: I tensorflow/core/platform/cpu_feature_guard.cc:182] This TensorFlow binary is optimized to use available CPU instructions in performance-critical operations.\n",
      "To enable the following instructions: SSE4.1 SSE4.2 AVX AVX2 FMA, in other operations, rebuild TensorFlow with the appropriate compiler flags.\n"
     ]
    }
   ],
   "source": [
    "import tensorflow as tf\n",
    "import numpy as np\n",
    "import os\n",
    "import matplotlib.pyplot as plt\n",
    "from PIL import Image\n",
    "\n",
    "import cv2\n",
    "from matplotlib import pyplot as plt"
   ]
  },
  {
   "cell_type": "code",
   "execution_count": 2,
   "metadata": {},
   "outputs": [],
   "source": [
    "\n",
    "def get_data():\n",
    "    (x_train, y_train), (x_test, y_test) = tf.keras.datasets.mnist.load_data()\n",
    "    return (x_train, y_train, x_test, y_test)"
   ]
  },
  {
   "cell_type": "code",
   "execution_count": 3,
   "metadata": {},
   "outputs": [],
   "source": [
    "threshold=100\n",
    "def on_capture(x):\n",
    "    global threshold\n",
    "    threshold=x"
   ]
  },
  {
   "cell_type": "code",
   "execution_count": 4,
   "metadata": {},
   "outputs": [],
   "source": [
    "mouse_down=False\n",
    "def clicked(event, x, y, flags, params):\n",
    "    global mouse_down\n",
    "    if event == cv2.EVENT_LBUTTONDOWN:\n",
    "        mouse_down= not mouse_down\n"
   ]
  },
  {
   "cell_type": "code",
   "execution_count": 5,
   "metadata": {},
   "outputs": [],
   "source": [
    "# model\n",
    "\n",
    "def train_model(x_train,x_test,y_train,y_test):\n",
    "\n",
    "    class CustomCallback(tf.keras.callbacks.Callback):\n",
    "        def on_epoch_end(self,epoch,logs={}):\n",
    "            print(logs)\n",
    "            if(logs.get('accuracy')>=0.99):\n",
    "                print(\"Cancelling futher training, Accuracy of 99% reached\")\n",
    "                self.model.stop_training=True\n",
    "\n",
    "    x_train=x_train/255\n",
    "    x_test=x_test/255\n",
    "\n",
    "    model=tf.keras.models.Sequential([\n",
    "        tf.keras.layers.Conv2D(32, kernel_size=(3,3), input_shape=(28,28,1),activation=tf.nn.relu),\n",
    "        tf.keras.layers.MaxPool2D(pool_size=(2,2)),\n",
    "        tf.keras.layers.Conv2D(64,kernel_size=(3,3), input_shape=(28,28,1),activation=tf.nn.relu),\n",
    "        tf.keras.layers.Flatten(),\n",
    "        tf.keras.layers.Dense(128,activation=tf.nn.relu),\n",
    "        tf.keras.layers.Dense(10,activation=tf.nn.softmax)\n",
    "    ])\n",
    "\n",
    "    model.compile(optimizer='adam',\n",
    "              loss='sparse_categorical_crossentropy',\n",
    "              metrics=['accuracy'])\n",
    "    \n",
    "    training=model.fit(x_train, y_train, epochs=10, batch_size=32, callbacks=[CustomCallback()])\n",
    "    print(training.epoch, training.history['accuracy'][-1])  \n",
    "\n",
    "    return model           "
   ]
  },
  {
   "cell_type": "code",
   "execution_count": 6,
   "metadata": {},
   "outputs": [],
   "source": [
    "def predict(model,image):\n",
    "    imgs = np.array([image])\n",
    "    res = model.predict(imgs)\n",
    "    index = np.argmax(res)\n",
    "    return str(index)"
   ]
  },
  {
   "cell_type": "code",
   "execution_count": 7,
   "metadata": {},
   "outputs": [],
   "source": [
    "def cv_video(model):\n",
    "    global threshold\n",
    "    \n",
    "    video_frame=cv2.namedWindow('my_window', cv2.WINDOW_NORMAL)\n",
    "    video_capture = cv2.VideoCapture(cv2.CAP_V4L2)\n",
    "    cv2.setMouseCallback('my_window', clicked)\n",
    "    cv2.createTrackbar('threshold','my_window',100,255,on_capture)\n",
    "    my_window=np.zeros((480, 640),np.uint8)\n",
    "    framecount=0\n",
    "\n",
    "    while True:\n",
    "        frame_captured,video_frame=video_capture.read()\n",
    "        if(mouse_down):\n",
    "\n",
    "            framecount+=1\n",
    "\n",
    "            video_frame[0:480, 0:80] = 0\n",
    "            video_frame[0:480, 560:640] = 0\n",
    "\n",
    "            grayFrame = cv2.cvtColor(video_frame, cv2.COLOR_BGR2GRAY)\n",
    "            _, thr = cv2.threshold(grayFrame, threshold, 255, cv2.THRESH_BINARY_INV)\n",
    "\n",
    "            resizedFrame = thr[240-75:240+75, 320-75:320+75]\n",
    "            my_window[240-75:240+75, 320-75:320+75] = resizedFrame\n",
    "\n",
    "            iconImg = cv2.resize(resizedFrame, (28, 28))\n",
    "\n",
    "            result = predict(model,iconImg)\n",
    "            if framecount == 5:\n",
    "                my_window[0:480, 0:80] = 0\n",
    "                framecount = 0\n",
    "\n",
    "            cv2.putText(my_window, result, (10, 60), cv2.FONT_HERSHEY_SIMPLEX, 2, (255, 255, 255), 3)\n",
    "            cv2.rectangle(my_window, (320-80, 240-80), (320+80, 240+80), (255, 255, 255), thickness=3)\n",
    "            cv2.imshow('my_window', my_window)\n",
    "        else:\n",
    "            # display normal video \n",
    "            cv2.imshow('my_window', video_frame)\n",
    "\n",
    "        # cv2.imshow('resized', resizedFrame)\n",
    "        if cv2.waitKey(1) & 0xff == ord('q'):\n",
    "            break\n",
    "\n",
    "    video_capture.release()\n",
    "    cv2.destroyAllWindows()"
   ]
  },
  {
   "cell_type": "code",
   "execution_count": 8,
   "metadata": {},
   "outputs": [],
   "source": [
    "def load_model(model_path):\n",
    "    \"\"\"Loads a model from the specified path.\"\"\"\n",
    "    try:\n",
    "        return tf.keras.models.load_model(model_path)\n",
    "    except (FileNotFoundError, OSError):\n",
    "        print(\"Model not found. Training a new model.\")\n",
    "        return None\n"
   ]
  },
  {
   "cell_type": "code",
   "execution_count": 9,
   "metadata": {},
   "outputs": [],
   "source": [
    "def train_and_save_model(model_path):\n",
    "    \"\"\"Trains a new model, saves it to the specified path, and returns it.\"\"\"\n",
    "    x_train, y_train, x_test, y_test = get_data()\n",
    "    model = train_model(x_train, x_test, y_train, y_test)\n",
    "    model.save(model_path)\n",
    "    return model"
   ]
  },
  {
   "cell_type": "code",
   "execution_count": 10,
   "metadata": {},
   "outputs": [],
   "source": [
    "def main():\n",
    "    model_path = 'model.sav'\n",
    "    model = load_model(model_path)\n",
    "    print(model is None)\n",
    "    if model is None:\n",
    "        model = train_and_save_model(model_path)\n",
    "    cv_video(model)\n"
   ]
  },
  {
   "cell_type": "code",
   "execution_count": null,
   "metadata": {},
   "outputs": [],
   "source": [
    "if __name__ == '__main__':\n",
    "    main()"
   ]
  }
 ],
 "metadata": {
  "kernelspec": {
   "display_name": "TensorFlow",
   "language": "python",
   "name": "python3"
  },
  "language_info": {
   "codemirror_mode": {
    "name": "ipython",
    "version": 3
   },
   "file_extension": ".py",
   "mimetype": "text/x-python",
   "name": "python",
   "nbconvert_exporter": "python",
   "pygments_lexer": "ipython3",
   "version": "3.10.13"
  }
 },
 "nbformat": 4,
 "nbformat_minor": 2
}
